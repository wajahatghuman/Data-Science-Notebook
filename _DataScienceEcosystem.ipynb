{
 "cells": [
  {
   "cell_type": "markdown",
   "id": "10134d80-27da-4def-9a5f-1eb6186aca80",
   "metadata": {},
   "source": [
    "# Data Science Tools and Ecosystem"
   ]
  },
  {
   "cell_type": "markdown",
   "id": "33e935fc-57c4-4fcf-8535-55d9b0faaac2",
   "metadata": {},
   "source": [
    "## In this notebook, Data Science Tools and Ecosystem are summarized."
   ]
  },
  {
   "cell_type": "markdown",
   "id": "37430c00-d623-4243-ad89-f67779f1dfc4",
   "metadata": {},
   "source": [
    "Some of the popular languages that Data Scientists use are:\n",
    "\n",
    "1. Python\n",
    "2. R\n",
    "3. SQL\n"
   ]
  },
  {
   "cell_type": "markdown",
   "id": "0fb73727-4095-4b21-9d4f-b5a6a0138f0e",
   "metadata": {},
   "source": [
    "Some of the commonly used libraries used by Data Scientists include:\n",
    "\n",
    "1. Pandas\n",
    "2. NumPy\n",
    "3. Matplotlib\n",
    "4. Scikit-learn\n"
   ]
  },
  {
   "cell_type": "markdown",
   "id": "d6ef120c-94e5-412e-aa48-19fdfd7cb3e6",
   "metadata": {},
   "source": [
    "| Data Science Tools |\n",
    "|--------------------|\n",
    "| Jupyter Notebook   |\n",
    "| RStudio            |\n",
    "| Apache Zeppelin    |\n"
   ]
  },
  {
   "cell_type": "markdown",
   "id": "eac7370b-c1af-427a-8977-89cabd43e280",
   "metadata": {},
   "source": [
    "### Below are a few examples of evaluating arithmetic expressions in Python:\n"
   ]
  },
  {
   "cell_type": "code",
   "execution_count": 1,
   "id": "41ead73e-19e2-456d-af8d-7ab91a056b1d",
   "metadata": {},
   "outputs": [
    {
     "data": {
      "text/plain": [
       "17"
      ]
     },
     "execution_count": 1,
     "metadata": {},
     "output_type": "execute_result"
    }
   ],
   "source": [
    "# This is a simple arithmetic expression to multiply then add integers.\n",
    "result = (3 * 4) + 5\n",
    "result\n"
   ]
  },
  {
   "cell_type": "code",
   "execution_count": 2,
   "id": "e777632b-81ed-454a-891e-186cca02abb3",
   "metadata": {},
   "outputs": [
    {
     "data": {
      "text/plain": [
       "3.3333333333333335"
      ]
     },
     "execution_count": 2,
     "metadata": {},
     "output_type": "execute_result"
    }
   ],
   "source": [
    "# This will convert 200 minutes to hours by dividing by 60.\n",
    "minutes = 200\n",
    "hours = minutes / 60\n",
    "hours\n"
   ]
  },
  {
   "cell_type": "markdown",
   "id": "1bbc70f2-e777-455d-b52c-b89b3fc5652e",
   "metadata": {},
   "source": [
    "**Objectives:**\n",
    "\n",
    "- List popular languages for Data Science\n",
    "- Discuss commonly used libraries in Data Science\n",
    "- Identify open-source tools for Data Science development\n",
    "- Demonstrate basic arithmetic operations in Python\n",
    "- Convert minutes to hours in Python\n"
   ]
  },
  {
   "cell_type": "markdown",
   "id": "e28cd0fb-645f-4bde-b3e6-34aafbb2e2aa",
   "metadata": {},
   "source": [
    "## Author\n",
    "Wajahat Ghuman\n"
   ]
  },
  {
   "cell_type": "code",
   "execution_count": null,
   "id": "9d010ecd-8b77-4426-9c15-5ebf1abe1463",
   "metadata": {},
   "outputs": [],
   "source": []
  }
 ],
 "metadata": {
  "kernelspec": {
   "display_name": "Python 3 (ipykernel)",
   "language": "python",
   "name": "python3"
  },
  "language_info": {
   "codemirror_mode": {
    "name": "ipython",
    "version": 3
   },
   "file_extension": ".py",
   "mimetype": "text/x-python",
   "name": "python",
   "nbconvert_exporter": "python",
   "pygments_lexer": "ipython3",
   "version": "3.11.9"
  }
 },
 "nbformat": 4,
 "nbformat_minor": 5
}
